{
  "nbformat": 4,
  "nbformat_minor": 0,
  "metadata": {
    "colab": {
      "name": "python programs",
      "provenance": []
    },
    "kernelspec": {
      "name": "python3",
      "display_name": "Python 3"
    },
    "language_info": {
      "name": "python"
    }
  },
  "cells": [
    {
      "cell_type": "code",
      "metadata": {
        "colab": {
          "base_uri": "https://localhost:8080/"
        },
        "id": "ijQVEqGDmEo6",
        "outputId": "bef1ff5e-c49a-44de-e81a-0a65bcfe9f58"
      },
      "source": [
        "\n",
        "n=int(input(\"enter the number\"))\n",
        "if n%2==0:\n",
        "    print(n,\"is an even number\")\n",
        "else:\n",
        "    print(n,\"is an odd number\")"
      ],
      "execution_count": null,
      "outputs": [
        {
          "output_type": "stream",
          "text": [
            "enter the number4\n",
            "4 is an even number\n"
          ],
          "name": "stdout"
        }
      ]
    },
    {
      "cell_type": "code",
      "metadata": {
        "colab": {
          "base_uri": "https://localhost:8080/"
        },
        "id": "UNDTZgINnZLD",
        "outputId": "329b63eb-47ff-4e23-ad50-860f6a9125fe"
      },
      "source": [
        " \n",
        "n=int(input(\"enter the n value\"))\n",
        "sum=0\n",
        "while(n>0):\n",
        "        r=n%10\n",
        "        sum=sum+r\n",
        "        n=n//10\n",
        "print(\"sum of digits in a number\",sum)"
      ],
      "execution_count": null,
      "outputs": [
        {
          "output_type": "stream",
          "text": [
            "enter the n value44\n",
            "sum of digits in a number 8\n"
          ],
          "name": "stdout"
        }
      ]
    },
    {
      "cell_type": "code",
      "metadata": {
        "colab": {
          "base_uri": "https://localhost:8080/"
        },
        "id": "2LJR06UbnrWD",
        "outputId": "f5ded8c9-e71e-436b-9623-be46ad5a1f89"
      },
      "source": [
        "n=int(input(\"enter the number\"))\n",
        "fact=1\n",
        "for i in range(1,n+1):\n",
        "        fact=fact*i\n",
        "print(\"factorial=\",fact)"
      ],
      "execution_count": null,
      "outputs": [
        {
          "output_type": "stream",
          "text": [
            "enter the number4\n",
            "factorial= 24\n"
          ],
          "name": "stdout"
        }
      ]
    }
  ]
}